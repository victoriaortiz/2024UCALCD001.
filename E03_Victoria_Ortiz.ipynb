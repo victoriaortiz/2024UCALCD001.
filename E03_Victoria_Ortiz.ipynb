{
  "nbformat": 4,
  "nbformat_minor": 0,
  "metadata": {
    "colab": {
      "provenance": [],
      "authorship_tag": "ABX9TyPw2VxdaNdIkolUqdkcAenT",
      "include_colab_link": true
    },
    "kernelspec": {
      "name": "python3",
      "display_name": "Python 3"
    },
    "language_info": {
      "name": "python"
    }
  },
  "cells": [
    {
      "cell_type": "markdown",
      "metadata": {
        "id": "view-in-github",
        "colab_type": "text"
      },
      "source": [
        "<a href=\"https://colab.research.google.com/github/victoriaortiz/2024UCALCD001./blob/main/E03_Victoria_Ortiz.ipynb\" target=\"_parent\"><img src=\"https://colab.research.google.com/assets/colab-badge.svg\" alt=\"Open In Colab\"/></a>"
      ]
    },
    {
      "cell_type": "code",
      "execution_count": null,
      "metadata": {
        "id": "B3rz-D_OQ8e4"
      },
      "outputs": [],
      "source": []
    },
    {
      "cell_type": "markdown",
      "source": [
        "El objetivo será que los estudiantes puedan visualizar y comprender\n",
        "la distribución de valores en un conjunto de datos bidimensional y\n",
        "apreciar, además de la utilidad de las representaciones gráficas, el\n",
        "trabajo de desarrollo de un proyecto en el entorno de un Notebook\n",
        "con cotrol de versiones en GIT.\n",
        "**Contexto del ejercicio:**\n",
        "Imagina que trabajas para una empresa que se dedica a la exploración\n",
        "y extracción de recursos naturales. Tu equipo ha estado realizando\n",
        "estudios geológicos en una región montañosa para identificar posibles\n",
        "áreas ricas en minerales valiosos. Durante las exploraciones, se han\n",
        "recolectado muestras de roca en diferentes puntos de coordenadas (x,\n",
        "y) y se ha medido la concentración de un mineral específico en cada\n",
        "una de estas muestras.\n",
        "[10, 10.625, 12.5, 15.625, 20, 40] \\\n",
        "[5.625, 6.25, 8.125, 11.25, 15.625, 26.11] \\\n",
        "[2.5, 3.125, 5.0, 8.125, 12.5, 12.005] \\\n",
        "[0.625, 1.25, 3.125, 6.25, 10.625, 23.34] \\\n",
        "[0, 0.625, 2.5, 5.625, 10, 12.89] \\\n",
        "Tu tarea es analizar los datos de concentración del mineral y crear\n",
        "una visualización que permita identificar las áreas más prometedoras\n",
        "para la extracción. Para ello, utilizarás un gráfico de contorno,\n",
        "que te permitirá representar la distribución de las concentraciones\n",
        "del mineral en todo el área de estudio.\n"
      ],
      "metadata": {
        "id": "YhA6eHlDRhph"
      }
    },
    {
      "cell_type": "code",
      "source": [
        "import plotly.graph_objs as go\n",
        "from plotly.offline import iplot\n"
      ],
      "metadata": {
        "id": "AAaqVv7iR_wv"
      },
      "execution_count": null,
      "outputs": []
    },
    {
      "cell_type": "markdown",
      "source": [
        "**Listas** de Datos de ejemplo para el gráfico y definición de valores\n",
        "para las coordenadas.\n"
      ],
      "metadata": {
        "id": "q_qX4LL4TCJI"
      }
    },
    {
      "cell_type": "code",
      "source": [
        "coordenadas_x = [0, 1, 2, 3, 4]\n",
        "coordenadas_y = [0, 1, 2, 3, 4]\n",
        "concentraciones = [[10, 10.625, 12.5, 15.625, 20],\n",
        " [5.625, 6.25, 8.125, 11.25, 15.625],\n",
        " [2.5, 3.125, 5.0, 8.125, 12.5],\n",
        " [0.625, 1.25, 3.125, 6.25, 10.625],\n",
        " [0, 0.625, 2.5, 5.625, 10]]\n",
        "\n"
      ],
      "metadata": {
        "id": "nOT2Z-gXTZvX"
      },
      "execution_count": null,
      "outputs": []
    }
  ]
}